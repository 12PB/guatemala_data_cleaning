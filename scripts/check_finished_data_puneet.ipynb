{
 "cells": [
  {
   "cell_type": "code",
   "execution_count": 84,
   "metadata": {},
   "outputs": [
    {
     "data": {
      "text/plain": [
       "'\\nDone in this notebook\\n- Ensure that missingness-indicator columns exist.\\n    - You probably can\\'t conclusively check that all are included, because the data you get will not necessarily reveal which columns had missingness, but check that there are some missingness columns, and none for categorical data.\\n- Ensure there are no NaNs in the data.\\n- Ensure column names:\\n    - In data: \"hhid\" (if household ID is included), \"consumption_per_capita_per_day\", \"hh_wgt\".\\n    - Consumption: Check mean and std for sanity. In a poor country, the mean should be low-mid single digits: e.g., in Uganda, the mean is $3.80/day.\\n- Check for columns that indicate units:\\n    - If they are present, the corresponding numeric field should be standardized, e.g., all area units adjusted to square meters.\\n- Check that metadata and the dataset itself match:\\n    - Every column in data is described in metadata and vice versa. It\\'s also OK if `hhid` is not in the data at all.\\n- In metadata:\\n    - \"variable_name\".\\n    - \"data_type\", with permitted values \"numeric\" and \"categorical\".\\n    - \"geographic_indicator\".\\n- Scan datatypes:\\n    - In particular, make sure nothing is numeric which should be categorical.\\n    - Ensure categorical-type columns have the appropriate type even if the categories are encoded as integers (if a column is binary, with no missing values, it can be numeric or categorical).\\n    - IDs of all kinds are strings even if they appear numeric.\\n- Check for duplication\\n- Check feasibility of stratification\\n'"
      ]
     },
     "execution_count": 84,
     "metadata": {},
     "output_type": "execute_result"
    }
   ],
   "source": [
    "import pandas as pd\n",
    "from pathlib import Path\n",
    "import numpy as np\n",
    "import itertools\n",
    "\n",
    "def get_row_from_metadata(metadata, covariate_name):\n",
    "    \"\"\"\n",
    "    Extracts a specific row from the metadata DataFrame based on the covariate name.\n",
    "\n",
    "    :param metadata: DataFrame containing metadata.\n",
    "    :param covariate_name: Name of the covariate to extract.\n",
    "    :return: Row corresponding to the specified covariate name.\n",
    "    \"\"\"\n",
    "    return metadata.loc[metadata['variable_name'] == covariate_name].squeeze()\n",
    "\n",
    "def all_rows_from_metadata_containing(metadata, substring):\n",
    "    \"\"\"\n",
    "    Extracts all rows from the metadata DataFrame that contain a specific substring in the variable name.\n",
    "\n",
    "    :param metadata: DataFrame containing metadata.\n",
    "    :param substring: Substring to search for in the variable names.\n",
    "    :return: DataFrame containing all rows with variable names that contain the substring.\n",
    "    \"\"\"\n",
    "    return metadata[metadata['variable_name'].str.contains(substring, na=False)].reset_index(drop=True)\n",
    "\n",
    "def all_column_names_containing(df, substring):\n",
    "    \"\"\"\n",
    "    Extracts all column names from the DataFrame that contain a specific substring.\n",
    "\n",
    "    :param df: DataFrame to search for column names.\n",
    "    :param substring: Substring to search for in the column names.\n",
    "    :return: List of column names containing the specified substring.\n",
    "    \"\"\"\n",
    "    return [col for col in df.columns if substring in col]\n",
    "\n",
    "\n",
    "def find_equivalent_columns(data, summary, numeric_tolerance=1e-6, categorical_threshold=0.99):\n",
    "    \"\"\"\n",
    "    Find pairs of columns in a DataFrame that are informationally equivalent.\n",
    "    \n",
    "    Parameters:\n",
    "    -----------\n",
    "    data : pandas DataFrame\n",
    "        The DataFrame to analyze\n",
    "    numeric_tolerance : float, default 1e-6\n",
    "        Tolerance for considering numeric columns equal or proportional\n",
    "    categorical_threshold : float, default 0.99\n",
    "        Threshold for considering categorical columns equivalent (percentage match)\n",
    "    \n",
    "    Returns:\n",
    "    --------\n",
    "    list of tuples\n",
    "        Each tuple contains (col1, col2, relationship_type)\n",
    "        where relationship_type is one of: 'identical', 'proportional', 'categorical_equivalent'\n",
    "    \"\"\"\n",
    "    equivalent_pairs = []\n",
    "    columns = data.columns\n",
    "    \n",
    "    # Get column types\n",
    "    \n",
    "    numeric_cols = summary[summary.data_type == 'numeric'].variable_name.tolist()\n",
    "    categorical_cols = summary[summary.data_type == 'categorical'].variable_name.tolist()\n",
    "\n",
    "    # Identify constant columns\n",
    "    constant_cols = []\n",
    "    for col in columns:\n",
    "        unique_values = data[col].dropna().unique()\n",
    "        if len(unique_values) <= 1:\n",
    "            constant_cols.append(col)\n",
    "\n",
    "    # Print constant columns if verbose\n",
    "    if len(constant_cols) > 0:\n",
    "        print(\"Constant columns:\")\n",
    "        for col in constant_cols:\n",
    "            print(col)\n",
    "        print()\n",
    "    \n",
    "\n",
    "    # Remove constant columns from numeric and categorical lists\n",
    "    numeric_cols = [col for col in numeric_cols if col not in constant_cols]\n",
    "    categorical_cols = [col for col in categorical_cols if col not in constant_cols]\n",
    "\n",
    "    # remove missingness-indicator columns\n",
    "    missingness_cols = list(\n",
    "        set(all_column_names_containing(data, '_missing') + \n",
    "        all_column_names_containing(data, '_m'))\n",
    "    )\n",
    "    numeric_cols = [col for col in numeric_cols if col not in missingness_cols]\n",
    "    categorical_cols = [col for col in categorical_cols if col not in missingness_cols]\n",
    "    \n",
    "    # Check numeric columns for equality or proportionality\n",
    "    for col1, col2 in itertools.combinations(numeric_cols, 2):\n",
    "\n",
    "        # Check for identical values first\n",
    "        if data[col1].equals(data[col2]):\n",
    "            equivalent_pairs.append((col1, col2, 'identical'))\n",
    "            continue\n",
    "            \n",
    "        # Check for identical values where neither is zero\n",
    "        valid_mask = ~data[col1].isna() & ~data[col2].isna()\n",
    "        if np.allclose(data.loc[valid_mask, col1], data.loc[valid_mask, col2], \n",
    "                      rtol=numeric_tolerance, atol=numeric_tolerance):\n",
    "            equivalent_pairs.append((col1, col2, 'nearly_identical'))\n",
    "            continue\n",
    "        \n",
    "        # For rows with zeros, check if the columns are exactly equal\n",
    "        zero_mask = (data[col1] == 0) | (data[col2] == 0)\n",
    "        non_zero_mask = ~zero_mask & valid_mask\n",
    "        \n",
    "        # Check if the columns have the same values where zeros are present\n",
    "        if zero_mask.any():\n",
    "            zero_equality = (data.loc[zero_mask & valid_mask, col1] == \n",
    "                             data.loc[zero_mask & valid_mask, col2]).all()\n",
    "        else:\n",
    "            zero_equality = True\n",
    "            \n",
    "        # Check for proportional relationship in non-zero values\n",
    "        if non_zero_mask.sum() > 10:  # Require at least some non-zero values\n",
    "            ratios = data.loc[non_zero_mask, col2] / data.loc[non_zero_mask, col1]\n",
    "            ratio_std = ratios.std()\n",
    "            \n",
    "            # If standard deviation of ratios is very small, columns are proportional\n",
    "            if ratio_std < numeric_tolerance and zero_equality:\n",
    "                ratio = ratios.mean()\n",
    "                equivalent_pairs.append((col1, col2, f'proportional (factor: {ratio:.4f})'))\n",
    "    \n",
    "    # Create a list of all columns to check for categorical equivalence\n",
    "    # This includes both explicit categorical columns and numeric columns\n",
    "    all_potential_categorical_cols = categorical_cols + numeric_cols\n",
    "    \n",
    "    # Check all columns for equivalent categorical mappings\n",
    "    for col1, col2 in itertools.combinations(all_potential_categorical_cols, 2):\n",
    "        # Skip if identical columns or already identified as identical or proportional\n",
    "        if col1 == col2 or any((col1, col2, rel) in equivalent_pairs for rel in \n",
    "                               ['identical', 'nearly_identical', 'proportional']):\n",
    "            continue\n",
    "            \n",
    "        # Get unique values for both columns\n",
    "        unique_vals1 = data[col1].dropna().unique()\n",
    "        unique_vals2 = data[col2].dropna().unique()\n",
    "        \n",
    "        # Skip if columns have different number of unique values\n",
    "        if len(unique_vals1) != len(unique_vals2):\n",
    "            continue\n",
    "            \n",
    "        # Skip if too many unique values (likely not categorical)\n",
    "        if len(unique_vals1) > 100:  # Arbitrary threshold, adjust as needed\n",
    "            continue\n",
    "            \n",
    "        # Create a mapping table between values in both columns\n",
    "        mapping_df = data[[col1, col2]].dropna().drop_duplicates()\n",
    "        \n",
    "        # Check if mapping is one-to-one (each value in col1 maps to exactly one value in col2)\n",
    "        is_one_to_one = True\n",
    "        \n",
    "        # Check col1 -> col2 mapping\n",
    "        for val in unique_vals1:\n",
    "            corresponding_vals = data.loc[data[col1] == val, col2].dropna().unique()\n",
    "            if len(corresponding_vals) != 1:\n",
    "                is_one_to_one = False\n",
    "                break\n",
    "                \n",
    "        # Check col2 -> col1 mapping\n",
    "        if is_one_to_one:\n",
    "            for val in unique_vals2:\n",
    "                corresponding_vals = data.loc[data[col2] == val, col1].dropna().unique()\n",
    "                if len(corresponding_vals) != 1:\n",
    "                    is_one_to_one = False\n",
    "                    break\n",
    "        \n",
    "        if is_one_to_one:\n",
    "            # If we create a new column using the mapping, it should match the original\n",
    "            val_mapping = dict(zip(mapping_df[col1], mapping_df[col2]))\n",
    "            \n",
    "            # Apply mapping and handle NaN values\n",
    "            mapped_values = data[col1].map(val_mapping)\n",
    "            \n",
    "            # Count matches (ignoring NaN values)\n",
    "            valid_mask = ~data[col1].isna() & ~data[col2].isna()\n",
    "            if valid_mask.sum() > 0:\n",
    "                match_percentage = (mapped_values == data[col2])[valid_mask].mean()\n",
    "                \n",
    "                if match_percentage >= categorical_threshold:\n",
    "                    # Determine if both are numeric or mixed types\n",
    "                    if col1 in numeric_cols and col2 in numeric_cols:\n",
    "                        relationship = 'numeric_categorical_equivalent'\n",
    "                    else:\n",
    "                        relationship = 'categorical_equivalent'\n",
    "                    equivalent_pairs.append((col1, col2, relationship))\n",
    "    \n",
    "    return equivalent_pairs\n",
    "\n",
    "\"\"\"\n",
    "Done in this notebook\n",
    "- Ensure that missingness-indicator columns exist.\n",
    "    - You probably can't conclusively check that all are included, because the data you get will not necessarily reveal which columns had missingness, but check that there are some missingness columns, and none for categorical data.\n",
    "- Ensure there are no NaNs in the data.\n",
    "- Ensure column names:\n",
    "    - In data: \"hhid\" (if household ID is included), \"consumption_per_capita_per_day\", \"hh_wgt\".\n",
    "    - Consumption: Check mean and std for sanity. In a poor country, the mean should be low-mid single digits: e.g., in Uganda, the mean is $3.80/day.\n",
    "- Check for columns that indicate units:\n",
    "    - If they are present, the corresponding numeric field should be standardized, e.g., all area units adjusted to square meters.\n",
    "- Check that metadata and the dataset itself match:\n",
    "    - Every column in data is described in metadata and vice versa. It's also OK if `hhid` is not in the data at all.\n",
    "- In metadata:\n",
    "    - \"variable_name\".\n",
    "    - \"data_type\", with permitted values \"numeric\" and \"categorical\".\n",
    "    - \"geographic_indicator\".\n",
    "- Scan datatypes:\n",
    "    - In particular, make sure nothing is numeric which should be categorical.\n",
    "    - Ensure categorical-type columns have the appropriate type even if the categories are encoded as integers (if a column is binary, with no missing values, it can be numeric or categorical).\n",
    "    - IDs of all kinds are strings even if they appear numeric.\n",
    "- Check for duplication\n",
    "- Check feasibility of stratification\n",
    "\"\"\""
   ]
  },
  {
   "cell_type": "markdown",
   "metadata": {},
   "source": [
    "## Read in"
   ]
  },
  {
   "cell_type": "code",
   "execution_count": 85,
   "metadata": {},
   "outputs": [
    {
     "name": "stdout",
     "output_type": "stream",
     "text": [
      "Read in: Guatemala\n"
     ]
    }
   ],
   "source": [
    "# not used except to print - a sanity check in my script which I use for many countries.\n",
    "country = 'Guatemala'\n",
    "\n",
    "data = pd.read_csv('../merged_data/guatemala_household_data.csv')\n",
    "summary = pd.read_csv('../metadata/guatemala_metadata_final.csv')\n",
    "\n",
    "if 'variable_description' not in summary.columns:\n",
    "    summary['variable_description'] = summary['variable_name']\n",
    "\n",
    "print(f'Read in: {country}')"
   ]
  },
  {
   "cell_type": "code",
   "execution_count": 86,
   "metadata": {},
   "outputs": [
    {
     "name": "stdout",
     "output_type": "stream",
     "text": [
      "country: Guatemala\n",
      "nullity: \n"
     ]
    },
    {
     "data": {
      "text/plain": [
       "region    0.0\n",
       "area      0.0\n",
       "dtype: float64"
      ]
     },
     "metadata": {},
     "output_type": "display_data"
    },
    {
     "name": "stdout",
     "output_type": "stream",
     "text": [
      "empty string\n"
     ]
    },
    {
     "data": {
      "text/plain": [
       "region    0.0\n",
       "area      0.0\n",
       "dtype: float64"
      ]
     },
     "metadata": {},
     "output_type": "display_data"
    },
    {
     "name": "stdout",
     "output_type": "stream",
     "text": [
      "Number of samples:\n",
      "7276\n"
     ]
    }
   ],
   "source": [
    "# It's critical there are no Nones or nans.\n",
    "\n",
    "print(f'country: {country}')\n",
    "print('nullity: ')\n",
    "display(data.isna().mean().sort_values(ascending=False).head(2))\n",
    "# Empty string may or may not be a problem; just take a glance at whether they seem to make sense.\n",
    "\n",
    "print('empty string')\n",
    "display(data.isin(['']).mean().sort_values(ascending=False).head(2))\n",
    "print('Number of samples:')\n",
    "print(data.shape[0])"
   ]
  },
  {
   "cell_type": "markdown",
   "metadata": {},
   "source": [
    "## Missingness columns"
   ]
  },
  {
   "cell_type": "code",
   "execution_count": 87,
   "metadata": {},
   "outputs": [
    {
     "name": "stdout",
     "output_type": "stream",
     "text": [
      "country: Guatemala\n",
      "categorical columns with missingness indicators:\n",
      "Series([], Name: count, dtype: int64)\n"
     ]
    },
    {
     "data": {
      "text/html": [
       "<div>\n",
       "<style scoped>\n",
       "    .dataframe tbody tr th:only-of-type {\n",
       "        vertical-align: middle;\n",
       "    }\n",
       "\n",
       "    .dataframe tbody tr th {\n",
       "        vertical-align: top;\n",
       "    }\n",
       "\n",
       "    .dataframe thead th {\n",
       "        text-align: right;\n",
       "    }\n",
       "</style>\n",
       "<table border=\"1\" class=\"dataframe\">\n",
       "  <thead>\n",
       "    <tr style=\"text-align: right;\">\n",
       "      <th></th>\n",
       "      <th>variable_name</th>\n",
       "      <th>data_type</th>\n",
       "      <th>module_name</th>\n",
       "      <th>module_description</th>\n",
       "      <th>variable_description</th>\n",
       "      <th>geographic_indicator</th>\n",
       "    </tr>\n",
       "  </thead>\n",
       "  <tbody>\n",
       "  </tbody>\n",
       "</table>\n",
       "</div>"
      ],
      "text/plain": [
       "Empty DataFrame\n",
       "Columns: [variable_name, data_type, module_name, module_description, variable_description, geographic_indicator]\n",
       "Index: []"
      ]
     },
     "metadata": {},
     "output_type": "display_data"
    },
    {
     "name": "stdout",
     "output_type": "stream",
     "text": [
      "numerical columns with no missingness indicators:\n",
      "2                           hhid\n",
      "3                        hh_size\n",
      "4                         hh_wgt\n",
      "5                  num_gas_stove\n",
      "6                  num_microwave\n",
      "                 ...            \n",
      "163                   num_adults\n",
      "164                  num_elderly\n",
      "166                  hh_head_age\n",
      "173        num_children_enrolled\n",
      "182    headcount_adjusted_hh_wgt\n",
      "Name: variable_name, Length: 112, dtype: object\n"
     ]
    }
   ],
   "source": [
    "# Missingness columns (assumes _missing or _m suffix)\n",
    "# We've asked everyone to include missingness indicators for all numeric columns. If there are numeric columns without\n",
    "# indicators, ensure that makes sense: e.g. counts, where missing data would result in a zero, is fine. \n",
    "\n",
    "# If there are categorical columns with missingess indicators, that's incorrect. If it is trivial for you to fix in their code,\n",
    "# great, but if it'll take more than a minute or two, just note the issue and move on.\n",
    "\n",
    "print(f'country: {country}')\n",
    "\n",
    "missingness_columns_missing = [\n",
    "    c for c in data.columns if ('missing' in c) \n",
    "]\n",
    "missingness_columns_m = [\n",
    "    c for c in data.columns if ('_m' in c) \n",
    "]\n",
    "with_missingness = [\n",
    "    c[:-8] for c in missingness_columns_missing\n",
    "] + [\n",
    "    c[:-2] for c in missingness_columns_m\n",
    "]\n",
    "missingness_columns = missingness_columns_missing + missingness_columns_m\n",
    "for c in missingness_columns:\n",
    "    if not (c in summary.variable_name.values):\n",
    "        print(f\"Missingness column {c} not in summary\")\n",
    "    \n",
    "relevant_summary = summary[summary.variable_name.isin(with_missingness)]\n",
    "print('categorical columns with missingness indicators:')\n",
    "\n",
    "print(relevant_summary.data_type.value_counts())\n",
    "display(relevant_summary[relevant_summary.data_type == 'categorical'])\n",
    "\n",
    "# print numerical columns with no missingness indicators\n",
    "print('numerical columns with no missingness indicators:')\n",
    "print(summary[\n",
    "    (summary.data_type == 'numeric') \n",
    "    & (~summary.variable_name.isin(with_missingness))\n",
    "    & (~summary.variable_name.str.endswith('_missing'))\n",
    "    & (~summary.variable_name.str.endswith('_m'))\n",
    "].variable_name)"
   ]
  },
  {
   "cell_type": "markdown",
   "metadata": {},
   "source": [
    "## Consumption, weights, hh size, poverty rate"
   ]
  },
  {
   "cell_type": "code",
   "execution_count": 88,
   "metadata": {},
   "outputs": [
    {
     "name": "stdout",
     "output_type": "stream",
     "text": [
      "country: Guatemala\n",
      "mean: 14.123801400744423\n",
      "std: 16.30854291105592\n",
      "rate: 0.025520301311164544\n"
     ]
    }
   ],
   "source": [
    "# Here, just ensure the assertions pass, and then send me the poverty rate that is printed (not the mean or the \n",
    "# standard deviation).\n",
    "\n",
    "print(f'country: {country}')\n",
    "assert 'consumption_per_capita_per_day' in data.columns\n",
    "assert 'headcount_adjusted_hh_wgt' in data.columns\n",
    "assert pd.api.types.is_numeric_dtype(data['consumption_per_capita_per_day']), \"'consumption_per_capita_per_day' is not numeric\"\n",
    "assert pd.api.types.is_numeric_dtype(data['headcount_adjusted_hh_wgt']), \"'headcount_adjusted_hh_wgt' is not numeric\"\n",
    "if not 'hh_size' in data.columns:\n",
    "    print('Warning: Missing hh_size')\n",
    "else:\n",
    "    assert np.isclose(data.hh_size * data.hh_wgt, data.headcount_adjusted_hh_wgt).all()\n",
    "    assert pd.api.types.is_numeric_dtype(data['hh_size']), \"'hh_size' is not numeric\"\n",
    "\n",
    "for col in ['headcount_adjusted_hh_wgt_missing', 'consumption_per_capita_per_day_missing', 'hh_wgt_missing']:\n",
    "    if col in data.columns:\n",
    "        assert data[col].sum() == 0, f\"{col} has missing values\"\n",
    "\n",
    "print('mean:', data.consumption_per_capita_per_day.mean())\n",
    "print('std:', data.consumption_per_capita_per_day.std())\n",
    "\n",
    "count_poor = (\n",
    "    data[data.consumption_per_capita_per_day < 2.15].headcount_adjusted_hh_wgt\n",
    ").sum()\n",
    "\n",
    "total = (\n",
    "    data.headcount_adjusted_hh_wgt\n",
    ").sum()\n",
    "rate = count_poor / total\n",
    "\n",
    "print('rate:',rate)\n",
    "# To crosscheck: https://docs.google.com/spreadsheets/d/11wGVZadIZMvR2oXoDtSfjJVvixyv3ievuUOF4k_1HNY/edit?gid=0#gid=0"
   ]
  },
  {
   "cell_type": "markdown",
   "metadata": {},
   "source": [
    "## Suspiciously named columns"
   ]
  },
  {
   "cell_type": "code",
   "execution_count": 89,
   "metadata": {},
   "outputs": [
    {
     "name": "stdout",
     "output_type": "stream",
     "text": [
      "country: Guatemala\n",
      "containing the word \"unit\":\n"
     ]
    },
    {
     "data": {
      "text/html": [
       "<div>\n",
       "<style scoped>\n",
       "    .dataframe tbody tr th:only-of-type {\n",
       "        vertical-align: middle;\n",
       "    }\n",
       "\n",
       "    .dataframe tbody tr th {\n",
       "        vertical-align: top;\n",
       "    }\n",
       "\n",
       "    .dataframe thead th {\n",
       "        text-align: right;\n",
       "    }\n",
       "</style>\n",
       "<table border=\"1\" class=\"dataframe\">\n",
       "  <thead>\n",
       "    <tr style=\"text-align: right;\">\n",
       "      <th></th>\n",
       "      <th>variable_name</th>\n",
       "      <th>data_type</th>\n",
       "      <th>module_name</th>\n",
       "      <th>module_description</th>\n",
       "      <th>variable_description</th>\n",
       "      <th>geographic_indicator</th>\n",
       "    </tr>\n",
       "  </thead>\n",
       "  <tbody>\n",
       "    <tr>\n",
       "      <th>86</th>\n",
       "      <td>consumption_per_capita_per_day</td>\n",
       "      <td>numeric</td>\n",
       "      <td>CONSUMO5.DTA</td>\n",
       "      <td>Total consumption per household</td>\n",
       "      <td>Per-capita per-day household consumption adjus...</td>\n",
       "      <td>False</td>\n",
       "    </tr>\n",
       "    <tr>\n",
       "      <th>174</th>\n",
       "      <td>has_paved_or_gravel_road</td>\n",
       "      <td>categorical</td>\n",
       "      <td>ECOM02.DTA</td>\n",
       "      <td>road availability and common community uses, l...</td>\n",
       "      <td>Whether the community has a paved or gravel ro...</td>\n",
       "      <td>False</td>\n",
       "    </tr>\n",
       "    <tr>\n",
       "      <th>175</th>\n",
       "      <td>has_dirt_road</td>\n",
       "      <td>categorical</td>\n",
       "      <td>ECOM02.DTA</td>\n",
       "      <td>road availability and common community uses, l...</td>\n",
       "      <td>Whether the community has a dirt road accessible</td>\n",
       "      <td>False</td>\n",
       "    </tr>\n",
       "    <tr>\n",
       "      <th>176</th>\n",
       "      <td>has_footpath_no_gravel</td>\n",
       "      <td>categorical</td>\n",
       "      <td>ECOM02.DTA</td>\n",
       "      <td>road availability and common community uses, l...</td>\n",
       "      <td>Whether the community has a footpath without g...</td>\n",
       "      <td>False</td>\n",
       "    </tr>\n",
       "    <tr>\n",
       "      <th>177</th>\n",
       "      <td>has_footpath</td>\n",
       "      <td>categorical</td>\n",
       "      <td>ECOM02.DTA</td>\n",
       "      <td>road availability and common community uses, l...</td>\n",
       "      <td>Whether the community has a footpath (any kind...</td>\n",
       "      <td>False</td>\n",
       "    </tr>\n",
       "    <tr>\n",
       "      <th>178</th>\n",
       "      <td>has_sea_lake_river</td>\n",
       "      <td>categorical</td>\n",
       "      <td>ECOM02.DTA</td>\n",
       "      <td>road availability and common community uses, l...</td>\n",
       "      <td>Whether the community has access to transporta...</td>\n",
       "      <td>False</td>\n",
       "    </tr>\n",
       "    <tr>\n",
       "      <th>179</th>\n",
       "      <td>has_train</td>\n",
       "      <td>categorical</td>\n",
       "      <td>ECOM02.DTA</td>\n",
       "      <td>road availability and common community uses, l...</td>\n",
       "      <td>Whether the community has access to railway/tr...</td>\n",
       "      <td>False</td>\n",
       "    </tr>\n",
       "    <tr>\n",
       "      <th>180</th>\n",
       "      <td>has_airplane</td>\n",
       "      <td>categorical</td>\n",
       "      <td>ECOM02.DTA</td>\n",
       "      <td>road availability and common community uses, l...</td>\n",
       "      <td>Whether the community has access to air transp...</td>\n",
       "      <td>False</td>\n",
       "    </tr>\n",
       "    <tr>\n",
       "      <th>181</th>\n",
       "      <td>has_other</td>\n",
       "      <td>categorical</td>\n",
       "      <td>ECOM02.DTA</td>\n",
       "      <td>road availability and common community uses, l...</td>\n",
       "      <td>Whether the community has access to any other ...</td>\n",
       "      <td>False</td>\n",
       "    </tr>\n",
       "  </tbody>\n",
       "</table>\n",
       "</div>"
      ],
      "text/plain": [
       "                      variable_name    data_type   module_name  \\\n",
       "86   consumption_per_capita_per_day      numeric  CONSUMO5.DTA   \n",
       "174        has_paved_or_gravel_road  categorical    ECOM02.DTA   \n",
       "175                   has_dirt_road  categorical    ECOM02.DTA   \n",
       "176          has_footpath_no_gravel  categorical    ECOM02.DTA   \n",
       "177                    has_footpath  categorical    ECOM02.DTA   \n",
       "178              has_sea_lake_river  categorical    ECOM02.DTA   \n",
       "179                       has_train  categorical    ECOM02.DTA   \n",
       "180                    has_airplane  categorical    ECOM02.DTA   \n",
       "181                       has_other  categorical    ECOM02.DTA   \n",
       "\n",
       "                                    module_description  \\\n",
       "86                     Total consumption per household   \n",
       "174  road availability and common community uses, l...   \n",
       "175  road availability and common community uses, l...   \n",
       "176  road availability and common community uses, l...   \n",
       "177  road availability and common community uses, l...   \n",
       "178  road availability and common community uses, l...   \n",
       "179  road availability and common community uses, l...   \n",
       "180  road availability and common community uses, l...   \n",
       "181  road availability and common community uses, l...   \n",
       "\n",
       "                                  variable_description  geographic_indicator  \n",
       "86   Per-capita per-day household consumption adjus...                 False  \n",
       "174  Whether the community has a paved or gravel ro...                 False  \n",
       "175   Whether the community has a dirt road accessible                 False  \n",
       "176  Whether the community has a footpath without g...                 False  \n",
       "177  Whether the community has a footpath (any kind...                 False  \n",
       "178  Whether the community has access to transporta...                 False  \n",
       "179  Whether the community has access to railway/tr...                 False  \n",
       "180  Whether the community has access to air transp...                 False  \n",
       "181  Whether the community has access to any other ...                 False  "
      ]
     },
     "metadata": {},
     "output_type": "display_data"
    },
    {
     "name": "stdout",
     "output_type": "stream",
     "text": [
      "containing the word \"consumption\":\n"
     ]
    },
    {
     "data": {
      "text/html": [
       "<div>\n",
       "<style scoped>\n",
       "    .dataframe tbody tr th:only-of-type {\n",
       "        vertical-align: middle;\n",
       "    }\n",
       "\n",
       "    .dataframe tbody tr th {\n",
       "        vertical-align: top;\n",
       "    }\n",
       "\n",
       "    .dataframe thead th {\n",
       "        text-align: right;\n",
       "    }\n",
       "</style>\n",
       "<table border=\"1\" class=\"dataframe\">\n",
       "  <thead>\n",
       "    <tr style=\"text-align: right;\">\n",
       "      <th></th>\n",
       "      <th>variable_name</th>\n",
       "      <th>data_type</th>\n",
       "      <th>module_name</th>\n",
       "      <th>module_description</th>\n",
       "      <th>variable_description</th>\n",
       "      <th>geographic_indicator</th>\n",
       "    </tr>\n",
       "  </thead>\n",
       "  <tbody>\n",
       "    <tr>\n",
       "      <th>86</th>\n",
       "      <td>consumption_per_capita_per_day</td>\n",
       "      <td>numeric</td>\n",
       "      <td>CONSUMO5.DTA</td>\n",
       "      <td>Total consumption per household</td>\n",
       "      <td>Per-capita per-day household consumption adjus...</td>\n",
       "      <td>False</td>\n",
       "    </tr>\n",
       "  </tbody>\n",
       "</table>\n",
       "</div>"
      ],
      "text/plain": [
       "                     variable_name data_type   module_name  \\\n",
       "86  consumption_per_capita_per_day   numeric  CONSUMO5.DTA   \n",
       "\n",
       "                 module_description  \\\n",
       "86  Total consumption per household   \n",
       "\n",
       "                                 variable_description  geographic_indicator  \n",
       "86  Per-capita per-day household consumption adjus...                 False  "
      ]
     },
     "metadata": {},
     "output_type": "display_data"
    },
    {
     "name": "stdout",
     "output_type": "stream",
     "text": [
      "variables with \"id\" or \"code\" and listed numeric:\n",
      "Name: hhid, Description: household id\n",
      "Name: num_video_camera, Description: Number of video cameras\n",
      "Name: distance_traditional_midwife, Description: Distance to the  traditional midwife\n"
     ]
    }
   ],
   "source": [
    "# This section checks for common pitfalls.\n",
    "\n",
    "print(f'country: {country}')\n",
    "\n",
    "# Data which might be a unit for some other data (we don't want this)\n",
    "#   e.g. \"units of plot area\"\n",
    "print('containing the word \"unit\":')\n",
    "display(\n",
    "    summary[\n",
    "        (\n",
    "            summary.variable_name.str.contains('unit')\n",
    "            | summary.variable_description.str.contains('unit')\n",
    "        ) & (\n",
    "            ~summary.variable_name.str.contains('community')\n",
    "        )\n",
    "    ]\n",
    ")\n",
    "\n",
    "# The only consumption data should be \"consumption_per_capita_per_day\"\n",
    "print('containing the word \"consumption\":')\n",
    "display(\n",
    "    summary[\n",
    "        summary.variable_name.str.contains('consumption')\n",
    "        | summary.variable_description.str.contains('consumption')\n",
    "    ]\n",
    ")\n",
    "\n",
    "# Print variables whose name contains \"id\" or \"code\" and are listed as numeric in the summary. Such\n",
    "# data should be categorical, not numeric. There also should not be any kind of identifier (household id, plot id, etc)\n",
    "# besides possibly \"hhid\".\n",
    "print('variables with \"id\" or \"code\" and listed numeric:')\n",
    "\n",
    "filtered_variables = summary[\n",
    "    (summary[\"variable_name\"].str.contains(\"id|code\", case=False, na=False)) &\n",
    "    (summary[\"data_type\"] == \"numeric\")\n",
    "]\n",
    "\n",
    "# Print the name and description of the filtered variables\n",
    "for _, row in filtered_variables.iterrows():\n",
    "    print(f\"Name: {row['variable_name']}, Description: {row['variable_description']}\")"
   ]
  },
  {
   "cell_type": "markdown",
   "metadata": {},
   "source": [
    "## Summary correctness: Matches data, format"
   ]
  },
  {
   "cell_type": "code",
   "execution_count": 90,
   "metadata": {},
   "outputs": [
    {
     "name": "stdout",
     "output_type": "stream",
     "text": [
      "country: Guatemala\n",
      "Variables in summary but not in data: set()\n",
      "Columns in data but not in summary: set()\n"
     ]
    }
   ],
   "source": [
    "print(f'country: {country}')\n",
    "\n",
    "# check that metadata and data match. It's OK if certain special column are not in summary: hhid, headcount_adjusted_hh_wgt,\n",
    "# hh_wgt, consumption_per_capita_per_day. But it's also fine if they are.\n",
    "data_columns = set(data.columns)\n",
    "\n",
    "summary_variable_names = set(summary['variable_name'])\n",
    "missing_in_data = summary_variable_names - data_columns\n",
    "missing_in_summary = data_columns - summary_variable_names\n",
    "\n",
    "print(\"Variables in summary but not in data:\", missing_in_data)\n",
    "print(\"Columns in data but not in summary:\", missing_in_summary)"
   ]
  },
  {
   "cell_type": "code",
   "execution_count": 91,
   "metadata": {},
   "outputs": [
    {
     "name": "stdout",
     "output_type": "stream",
     "text": [
      "country: Guatemala\n"
     ]
    }
   ],
   "source": [
    "# Check that \"summary\" fits the required format, and datatypes are correct.\n",
    "\n",
    "\n",
    "print(f'country: {country}')\n",
    "required_columns = {\n",
    "    \"variable_name\", \"data_type\", \"geographic_indicator\"\n",
    "    }\n",
    "summary_columns = set(summary.columns)\n",
    "\n",
    "missing_columns = required_columns - summary_columns\n",
    "if missing_columns:\n",
    "    print(f\"Missing required columns in summary: {missing_columns}\")\n",
    "\n",
    "# Ensure \"data_type\" has only permitted values\n",
    "permitted_data_types = {\"numeric\", \"categorical\"}\n",
    "for _, row in summary.iterrows():\n",
    "    if row[\"data_type\"] not in permitted_data_types:\n",
    "        print(\n",
    "            f\"Invalid data_type '{row['data_type']}' for variable '{row['variable_name']}'. \"\n",
    "            f\"Description: {row['variable_description']}\"\n",
    "        )\n",
    "\n",
    "for _, row in summary.iterrows():\n",
    "    for c in [\"geographic_indicator\"]:\n",
    "        if c not in row:\n",
    "            continue\n",
    "        if row[c] not in [0, 1, True, False, None]:\n",
    "            print(\n",
    "                f\"Invalid {c} '{row[c]}' for variable '{row['variable_name']}'. \"\n",
    "                f\"Description: {row['variable_description']}\"\n",
    "            )"
   ]
  },
  {
   "cell_type": "markdown",
   "metadata": {},
   "source": [
    "## Data types"
   ]
  },
  {
   "cell_type": "code",
   "execution_count": 92,
   "metadata": {},
   "outputs": [
    {
     "name": "stdout",
     "output_type": "stream",
     "text": [
      "country: Guatemala\n",
      "categorical in summary, numeric in data: 'region'; administrative political region\n",
      "categorical in summary, numeric in data: 'area'; urban or rural area\n",
      "categorical in summary, numeric in data: 'p01a01'; type of housing\n",
      "categorical in summary, numeric in data: 'p01a02'; wall material\n",
      "categorical in summary, numeric in data: 'p01a03'; roof material\n",
      "categorical in summary, numeric in data: 'p01a04'; floor material\n",
      "categorical in summary, numeric in data: 'p01a05a'; water connection\n",
      "categorical in summary, numeric in data: 'p01a05b'; drain connection\n",
      "categorical in summary, numeric in data: 'p01a05c'; electricity connection\n",
      "categorical in summary, numeric in data: 'p01a05d'; phone connection\n",
      "categorical in summary, numeric in data: 'p01a05e'; water meter\n",
      "categorical in summary, numeric in data: 'p01a05f'; electricity meter\n",
      "categorical in summary, numeric in data: 'p01a10'; cooking place\n",
      "categorical in summary, numeric in data: 'p01a11'; exclusive kitchen\n",
      "categorical in summary, numeric in data: 'p01a12'; where do you get water\n",
      "categorical in summary, numeric in data: 'p01a13'; water exclusivity\n",
      "categorical in summary, numeric in data: 'p01a14'; water service\n",
      "categorical in summary, numeric in data: 'p01a23'; use cistern water\n",
      "categorical in summary, numeric in data: 'p01a25'; water treatment\n",
      "categorical in summary, numeric in data: 'p01a26'; Type of toilet facility\n",
      "categorical in summary, numeric in data: 'p01a34'; Uses electricity\n",
      "categorical in summary, numeric in data: 'p01a35'; Source/provider of electricity\n",
      "categorical in summary, numeric in data: 'p01a39'; use of firewood\n",
      "categorical in summary, numeric in data: 'p01a44'; Firewood is the only fuel used\n",
      "categorical in summary, numeric in data: 'p01a45'; Kitchen has chimney\n",
      "categorical in summary, numeric in data: 'p01c01'; Housing tenure / Housing ownership status - only need binary for owning house\n",
      "categorical in summary, numeric in data: 'depto'; department\n",
      "categorical in summary, numeric in data: 'p15b01'; Had a business in the last 12 months\n",
      "categorical in summary, numeric in data: 'batteries_cooking'; Use of batteries for cooking purposes\n",
      "categorical in summary, numeric in data: 'batteries_home_business'; Use of batteries for home-based business activities\n",
      "categorical in summary, numeric in data: 'batteries_household'; Use of batteries for general household use\n",
      "categorical in summary, numeric in data: 'candles_cooking'; Use of candles for cooking purposes\n",
      "categorical in summary, numeric in data: 'candles_home_business'; Use of candles for home-based business activities\n",
      "categorical in summary, numeric in data: 'candles_household'; Use of candles for general household use\n",
      "categorical in summary, numeric in data: 'charcoal_cooking'; Use of charcoal for cooking purposes\n",
      "categorical in summary, numeric in data: 'charcoal_home_business'; Use of charcoal for home-based business activities\n",
      "categorical in summary, numeric in data: 'charcoal_household'; Use of charcoal for general household use\n",
      "categorical in summary, numeric in data: 'electricity_cooking'; Use of electricity for cooking purposes\n",
      "categorical in summary, numeric in data: 'electricity_home_business'; Use of electricity for home-based business activities\n",
      "categorical in summary, numeric in data: 'electricity_household'; Use of electricity for general household use\n",
      "categorical in summary, numeric in data: 'kerosene_cooking'; Use of kerosene for cooking purposes\n",
      "categorical in summary, numeric in data: 'kerosene_home_business'; Use of kerosene for home-based business activities\n",
      "categorical in summary, numeric in data: 'kerosene_household'; Use of kerosene for general household use\n",
      "categorical in summary, numeric in data: 'other_energy_cooking'; Use of other energy sources for cooking purposes\n",
      "categorical in summary, numeric in data: 'other_energy_home_business'; Use of other energy sources for home-based business activities\n",
      "categorical in summary, numeric in data: 'other_energy_household'; Use of other energy sources for general household use\n",
      "categorical in summary, numeric in data: 'propane_gas_cooking'; Use of propane gas for cooking purposes\n",
      "categorical in summary, numeric in data: 'propane_gas_home_business'; Use of propane gas for home-based business activities\n",
      "categorical in summary, numeric in data: 'propane_gas_household'; Use of propane gas for general household use\n",
      "categorical in summary, numeric in data: 'idenho_1'; self-identity\n",
      "categorical in summary, numeric in data: 'getnicoh'; indigenous group or not\n",
      "categorical in summary, numeric in data: 'p10d01'; Worked in the last 12 months - Yes/No\n",
      "categorical in summary, numeric in data: 'p10d03'; Worked in the last 12 months - Occupation code\n",
      "categorical in summary, numeric in data: 'p10d04'; Worked in the last 12 months - Industry/sector of work\n",
      "categorical in summary, numeric in data: 'p10d06'; Worked in the last 12 months - Employment category\n",
      "categorical in summary, numeric in data: 'p10e05a'; Government assistance - Yes/No\n",
      "categorical in summary, numeric in data: 'hh_head_gender'; Gender of the household head\n",
      "categorical in summary, numeric in data: 'hh_head_marital_status'; Marital status of the household head\n",
      "categorical in summary, numeric in data: 'hh_head_ethnicity'; Ethnic group of the household head\n",
      "categorical in summary, numeric in data: 'hh_head_literacy'; Literacy status of the household head (e.g., reads and writes)\n",
      "categorical in summary, numeric in data: 'hh_head_education_level'; Highest completed education level of the household head\n",
      "categorical in summary, numeric in data: 'max_education_level'; Highest completed education level among all household members\n",
      "categorical in summary, numeric in data: 'female_max_education_level'; Highest completed education level among adult female members (age ≥ 18)\n",
      "categorical in summary, numeric in data: 'has_paved_or_gravel_road'; Whether the community has a paved or gravel road accessible\n",
      "categorical in summary, numeric in data: 'has_dirt_road'; Whether the community has a dirt road accessible\n",
      "categorical in summary, numeric in data: 'has_footpath_no_gravel'; Whether the community has a footpath without gravel\n",
      "categorical in summary, numeric in data: 'has_footpath'; Whether the community has a footpath (any kind) accessible\n",
      "categorical in summary, numeric in data: 'has_sea_lake_river'; Whether the community has access to transportation via sea, lake, or river\n",
      "categorical in summary, numeric in data: 'has_train'; Whether the community has access to railway/train infrastructure\n",
      "categorical in summary, numeric in data: 'has_airplane'; Whether the community has access to air transportation\n",
      "categorical in summary, numeric in data: 'has_other'; Whether the community has access to any other type of transportation\n"
     ]
    },
    {
     "name": "stderr",
     "output_type": "stream",
     "text": [
      "C:\\Users\\PB\\AppData\\Local\\Temp\\ipykernel_6960\\3292187331.py:16: DeprecationWarning: is_categorical_dtype is deprecated and will be removed in a future version. Use isinstance(dtype, pd.CategoricalDtype) instead\n",
      "  if col in data.columns and not pd.api.types.is_categorical_dtype(data[col]):\n"
     ]
    }
   ],
   "source": [
    "# It's a big issue if a column is numeric in summary and non-numeric in data. It's not necessarily a problem if data\n",
    "# is categorical in summary and numeric in data, because it might be a code/indicator; just take a quick scan that none of\n",
    "# those columns seem like counts/numbers.\n",
    "print(f'country: {country}')\n",
    "\n",
    "# Check that numeric columns in summary are actually numeric in data\n",
    "numeric_columns = summary[summary[\"data_type\"] == \"numeric\"][\"variable_name\"]\n",
    "for col in numeric_columns:\n",
    "    if col in data.columns and not pd.api.types.is_numeric_dtype(data[col]):\n",
    "        description = summary.loc[summary[\"variable_name\"] == col, \"variable_description\"].values[0]\n",
    "        print(f\"BAD: numeric in summary, non-numeric in data: '{col}'; {description}\")\n",
    "\n",
    "# Check that categorical columns in summary are actually categorical in data (less important)\n",
    "categorical_columns = summary[summary[\"data_type\"] == \"categorical\"][\"variable_name\"]\n",
    "for col in categorical_columns:\n",
    "    if col in data.columns and not pd.api.types.is_categorical_dtype(data[col]):\n",
    "        description = summary.loc[summary[\"variable_name\"] == col, \"variable_description\"].values[0]\n",
    "        print(f\"categorical in summary, numeric in data: '{col}'; {description}\")"
   ]
  },
  {
   "cell_type": "markdown",
   "metadata": {},
   "source": [
    "## Duplicate columns"
   ]
  },
  {
   "cell_type": "code",
   "execution_count": 93,
   "metadata": {},
   "outputs": [
    {
     "name": "stdout",
     "output_type": "stream",
     "text": [
      "country: Guatemala\n"
     ]
    },
    {
     "name": "stdout",
     "output_type": "stream",
     "text": [
      "Constant columns:\n",
      "num_harvester\n",
      "\n"
     ]
    },
    {
     "data": {
      "text/plain": [
       "[]"
      ]
     },
     "execution_count": 93,
     "metadata": {},
     "output_type": "execute_result"
    }
   ],
   "source": [
    "# This will print constant columns and equivalent columns. It's fine if there are some.\n",
    "# \n",
    "# Constant columns sometimes indicate errors - if something seems like it should not be constant, but is, \n",
    "# that's probably an error. If two columns are printed\n",
    "# as being equivalent and their name/description suggests they are duplicates, e.g. \"state\" and \"state_code\", we should ask them \n",
    "# to drop one. I expect many missingness-indicator columns to be equivalent to each other (for data that has little to no\n",
    "# missingness). That's fine.\n",
    "\n",
    "print(f'country: {country}')\n",
    "\n",
    "find_equivalent_columns(data, summary)"
   ]
  },
  {
   "cell_type": "code",
   "execution_count": 94,
   "metadata": {},
   "outputs": [
    {
     "data": {
      "text/plain": [
       "num_harvester\n",
       "0.0    7276\n",
       "Name: count, dtype: int64"
      ]
     },
     "execution_count": 94,
     "metadata": {},
     "output_type": "execute_result"
    }
   ],
   "source": [
    "data['num_harvester'].value_counts()"
   ]
  },
  {
   "cell_type": "markdown",
   "metadata": {},
   "source": [
    "## Geography and stratification"
   ]
  },
  {
   "cell_type": "code",
   "execution_count": 96,
   "metadata": {},
   "outputs": [
    {
     "name": "stdout",
     "output_type": "stream",
     "text": [
      "country: Guatemala\n",
      "geographic indicators:\n"
     ]
    },
    {
     "data": {
      "text/html": [
       "<div>\n",
       "<style scoped>\n",
       "    .dataframe tbody tr th:only-of-type {\n",
       "        vertical-align: middle;\n",
       "    }\n",
       "\n",
       "    .dataframe tbody tr th {\n",
       "        vertical-align: top;\n",
       "    }\n",
       "\n",
       "    .dataframe thead th {\n",
       "        text-align: right;\n",
       "    }\n",
       "</style>\n",
       "<table border=\"1\" class=\"dataframe\">\n",
       "  <thead>\n",
       "    <tr style=\"text-align: right;\">\n",
       "      <th></th>\n",
       "      <th>variable_name</th>\n",
       "      <th>data_type</th>\n",
       "      <th>module_name</th>\n",
       "      <th>module_description</th>\n",
       "      <th>variable_description</th>\n",
       "      <th>geographic_indicator</th>\n",
       "    </tr>\n",
       "  </thead>\n",
       "  <tbody>\n",
       "    <tr>\n",
       "      <th>0</th>\n",
       "      <td>region</td>\n",
       "      <td>categorical</td>\n",
       "      <td>HOGARES.DTA</td>\n",
       "      <td>Module description</td>\n",
       "      <td>administrative political region</td>\n",
       "      <td>True</td>\n",
       "    </tr>\n",
       "    <tr>\n",
       "      <th>82</th>\n",
       "      <td>depto</td>\n",
       "      <td>categorical</td>\n",
       "      <td>CONSUMO5.DTA</td>\n",
       "      <td>Total consumption per household</td>\n",
       "      <td>department</td>\n",
       "      <td>True</td>\n",
       "    </tr>\n",
       "    <tr>\n",
       "      <th>83</th>\n",
       "      <td>mupio</td>\n",
       "      <td>numeric</td>\n",
       "      <td>CONSUMO5.DTA</td>\n",
       "      <td>Total consumption per household</td>\n",
       "      <td>municipality</td>\n",
       "      <td>True</td>\n",
       "    </tr>\n",
       "    <tr>\n",
       "      <th>84</th>\n",
       "      <td>sector</td>\n",
       "      <td>numeric</td>\n",
       "      <td>CONSUMO5.DTA</td>\n",
       "      <td>Total consumption per household</td>\n",
       "      <td>sector number</td>\n",
       "      <td>True</td>\n",
       "    </tr>\n",
       "  </tbody>\n",
       "</table>\n",
       "</div>"
      ],
      "text/plain": [
       "   variable_name    data_type   module_name               module_description  \\\n",
       "0         region  categorical   HOGARES.DTA               Module description   \n",
       "82         depto  categorical  CONSUMO5.DTA  Total consumption per household   \n",
       "83         mupio      numeric  CONSUMO5.DTA  Total consumption per household   \n",
       "84        sector      numeric  CONSUMO5.DTA  Total consumption per household   \n",
       "\n",
       "               variable_description  geographic_indicator  \n",
       "0   administrative political region                  True  \n",
       "82                       department                  True  \n",
       "83                     municipality                  True  \n",
       "84                   sector number                   True  "
      ]
     },
     "metadata": {},
     "output_type": "display_data"
    },
    {
     "name": "stdout",
     "output_type": "stream",
     "text": [
      "region\n",
      "8\n",
      "depto\n",
      "22\n",
      "mupio\n",
      "35\n",
      "sector\n",
      "119\n"
     ]
    }
   ],
   "source": [
    "# Check that the rows identified as geographic indicators make sense: are all actually geo indicators, and nothing is missing.\n",
    "\n",
    "print(f'country: {country}')\n",
    "\n",
    "print('geographic indicators:')\n",
    "display(summary[summary.geographic_indicator])\n",
    "for _, row in summary[summary.geographic_indicator].iterrows():\n",
    "    print(row.variable_name)\n",
    "    print(data[row.variable_name].nunique())\n"
   ]
  }
 ],
 "metadata": {
  "kernelspec": {
   "display_name": "smrintenv",
   "language": "python",
   "name": "python3"
  },
  "language_info": {
   "codemirror_mode": {
    "name": "ipython",
    "version": 3
   },
   "file_extension": ".py",
   "mimetype": "text/x-python",
   "name": "python",
   "nbconvert_exporter": "python",
   "pygments_lexer": "ipython3",
   "version": "3.13.2"
  }
 },
 "nbformat": 4,
 "nbformat_minor": 2
}
